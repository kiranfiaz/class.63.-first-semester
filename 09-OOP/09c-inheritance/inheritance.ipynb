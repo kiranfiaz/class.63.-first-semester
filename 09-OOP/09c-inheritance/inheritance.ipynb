{
 "cells": [
  {
   "cell_type": "markdown",
   "metadata": {},
   "source": [
    "# Inheritance in Python"
   ]
  },
  {
   "cell_type": "markdown",
   "metadata": {},
   "source": [
    "## What is Inheritance?\n",
    "\n",
    "**Inheritance** is a fundamental concept in Object-Oriented Programming (OOP) that allows a new class (called the **child class**) to inherit properties and behaviors (methods) from an existing class (called the **parent class**). This concept helps us to reuse code and extend the functionality of existing code without rewriting it.\n",
    "\n",
    "## Why is Inheritance Useful?\n",
    "\n",
    "Imagine you are building software for an e-commerce platform. You might have various types of users like customers, sellers, and admins. While all these users share some common properties (like a username or password), each user type also has specific features (like different access levels). Using inheritance, you can create a base class for general user properties, and extend it to handle specific cases for customers, sellers, and admins. This reduces redundancy and makes your code cleaner and easier to maintain.\n",
    "\n",
    "## Key Benefits of Inheritance\n",
    "\n",
    "- **Code Reusability**: Write code once and reuse it across multiple classes.\n",
    "- **Maintainability**: Easier to maintain and update code when changes are needed.\n",
    "- **Extensibility**: Classes can be easily extended to add new functionality without modifying the existing code.\n",
    "- **Modularity**: Break your code into small, modular units that are easier to understand and maintain."
   ]
  },
  {
   "cell_type": "markdown",
   "metadata": {},
   "source": [
    "## Basic Concepts of Inheritance in Python\n",
    "\n",
    "1. **Parent Class (Base Class)**: The class whose properties and methods are inherited.\n",
    "2. **Child Class (Derived Class)**: The class that inherits from the parent class."
   ]
  },
  {
   "cell_type": "markdown",
   "metadata": {},
   "source": [
    "### Example of a Basic Parent Class:\n",
    "\n",
    "This `User` class contains general information that might be shared by all users of a system, like a username and email."
   ]
  },
  {
   "cell_type": "code",
   "execution_count": null,
   "metadata": {},
   "outputs": [],
   "source": [
    "# Parent class\n",
    "class User:\n",
    "    def __init__(self, username, email):\n",
    "        self.username = username\n",
    "        self.email = email\n",
    "\n",
    "    def display_user_info(self):\n",
    "        print(f\"User: {self.username}, Email: {self.email}\")"
   ]
  },
  {
   "cell_type": "markdown",
   "metadata": {},
   "source": [
    "### Example of a Child Class Inheriting from the Parent Class:\n",
    "\n",
    "Here, `Admin` is a child class of `User`, and it inherits the `username` and `email` properties. Additionally, it introduces a new property `access_level` specific to admin users."
   ]
  },
  {
   "cell_type": "code",
   "execution_count": null,
   "metadata": {},
   "outputs": [],
   "source": [
    "# Child class inheriting from User\n",
    "class Admin(User):\n",
    "    def __init__(self, username, email, access_level):\n",
    "        # Inheriting the parent class properties using super()\n",
    "        super().__init__(username, email)\n",
    "        self.access_level = access_level\n",
    "\n",
    "    def display_admin_info(self):\n",
    "        print(f\"Admin Access Level: {self.access_level}\")"
   ]
  },
  {
   "cell_type": "markdown",
   "metadata": {},
   "source": [
    "### Using the Inheritance:"
   ]
  },
  {
   "cell_type": "code",
   "execution_count": null,
   "metadata": {},
   "outputs": [],
   "source": [
    "# Creating an instance of Admin\n",
    "admin1 = Admin(\"admin_user\", \"admin@example.com\", \"SuperUser\")\n",
    "admin1.display_user_info()  # Method from the parent class\n",
    "admin1.display_admin_info()  # Method from the child class"
   ]
  },
  {
   "cell_type": "markdown",
   "metadata": {},
   "source": [
    "## Types of Inheritance"
   ]
  },
  {
   "cell_type": "markdown",
   "metadata": {},
   "source": [
    "### 1. **Single Inheritance**\n",
    "In single inheritance, a child class inherits from one parent class."
   ]
  },
  {
   "cell_type": "code",
   "execution_count": null,
   "metadata": {},
   "outputs": [],
   "source": [
    "class Customer(User):\n",
    "    def __init__(self, username, email, customer_id):\n",
    "        super().__init__(username, email)\n",
    "        self.customer_id = customer_id\n",
    "\n",
    "    def display_customer_info(self):\n",
    "        print(f\"Customer ID: {self.customer_id}\")"
   ]
  },
  {
   "cell_type": "markdown",
   "metadata": {},
   "source": [
    "### 2. **Multiple Inheritance**\n",
    "In multiple inheritance, a child class can inherit from more than one parent class.\n",
    "\n",
    "Here, `Admin` inherits from both `User` and `Notification`, meaning it can use methods from both classes."
   ]
  },
  {
   "cell_type": "code",
   "execution_count": null,
   "metadata": {},
   "outputs": [],
   "source": [
    "class Notification:\n",
    "    def send_notification(self, message):\n",
    "        print(f\"Sending notification: {message}\")\n",
    "\n",
    "class Admin(User, Notification):\n",
    "    def __init__(self, username, email, access_level):\n",
    "        super().__init__(username, email)\n",
    "        self.access_level = access_level\n",
    "\n",
    "    def send_admin_notification(self):\n",
    "        self.send_notification(f\"Admin {self.username} has logged in.\")"
   ]
  },
  {
   "cell_type": "markdown",
   "metadata": {},
   "source": [
    "### 3. **Multilevel Inheritance**\n",
    "In multilevel inheritance, a class inherits from a child class that has already inherited from another class."
   ]
  },
  {
   "cell_type": "code",
   "execution_count": null,
   "metadata": {},
   "outputs": [],
   "source": [
    "class SuperAdmin(Admin):\n",
    "    def __init__(self, username, email, access_level, region):\n",
    "        super().__init__(username, email, access_level)\n",
    "        self.region = region\n",
    "\n",
    "    def display_super_admin_info(self):\n",
    "        print(f\"Super Admin Region: {self.region}\")"
   ]
  },
  {
   "cell_type": "markdown",
   "metadata": {},
   "source": [
    "### 4. **Hierarchical Inheritance**\n",
    "In hierarchical inheritance, multiple child classes inherit from the same parent class.\n",
    "\n",
    "Both `Admin` and `Seller` inherit from `User`."
   ]
  },
  {
   "cell_type": "code",
   "execution_count": null,
   "metadata": {},
   "outputs": [],
   "source": [
    "class Seller(User):\n",
    "    def __init__(self, username, email, shop_name):\n",
    "        super().__init__(username, email)\n",
    "        self.shop_name = shop_name\n",
    "\n",
    "    def display_seller_info(self):\n",
    "        print(f\"Shop Name: {self.shop_name}\")"
   ]
  },
  {
   "cell_type": "markdown",
   "metadata": {},
   "source": [
    "## Overriding Methods in Child Classes\n",
    "\n",
    "Child classes can override methods from the parent class to provide their own implementation."
   ]
  },
  {
   "cell_type": "code",
   "execution_count": null,
   "metadata": {},
   "outputs": [],
   "source": [
    "class Customer(User):\n",
    "    def display_user_info(self):\n",
    "        print(f\"Customer: {self.username}, Email: {self.email}\")"
   ]
  },
  {
   "cell_type": "markdown",
   "metadata": {},
   "source": [
    "### Example of Method Overriding:\n",
    "In this example, `Customer` overrides the `display_user_info()` method to provide a different message format from the parent `User` class."
   ]
  },
  {
   "cell_type": "code",
   "execution_count": null,
   "metadata": {},
   "outputs": [],
   "source": [
    "user = Customer(\"john_doe\", \"john@example.com\")\n",
    "user.display_user_info()  # This will call the overridden method in Customer"
   ]
  },
  {
   "cell_type": "code",
   "execution_count": 10,
   "metadata": {},
   "outputs": [
    {
     "name": "stdout",
     "output_type": "stream",
     "text": [
      "100 101 102\n",
      "200 201 202\n",
      "300 301 302\n"
     ]
    }
   ],
   "source": [
    "class TopLevel:\n",
    "    top_class_var = 100\n",
    "    def __init__(self):\n",
    "        self.top_var = 101\n",
    "\n",
    "    def top_method(self):\n",
    "        return 102\n",
    "\n",
    "\n",
    "class MidLevel(TopLevel):\n",
    "    mid_class_var = 200\n",
    "    def __init__(self):\n",
    "        super().__init__()\n",
    "        self.mid_var = 201\n",
    "    \n",
    "    def mid_method(self):\n",
    "        return 202\n",
    "\n",
    "\n",
    "class LowerLevel(MidLevel):\n",
    "    lower_class_var = 300\n",
    "    def __init__(self):\n",
    "        super().__init__()\n",
    "        self.lower_var = 301\n",
    "\n",
    "    def lower_method(self):\n",
    "        return 302\n",
    "\n",
    "\n",
    "obj = LowerLevel()\n",
    "\n",
    "print(obj.top_class_var, obj.top_var, obj.top_method())\n",
    "print(obj.mid_class_var, obj.mid_var, obj.mid_method())\n",
    "print(obj.lower_class_var, obj.lower_var, obj.lower_method())\n"
   ]
  }
 ],
 "metadata": {
  "kernelspec": {
   "display_name": "Python 3",
   "language": "python",
   "name": "python3"
  },
  "language_info": {
   "codemirror_mode": {
    "name": "ipython",
    "version": 3
   },
   "file_extension": ".py",
   "mimetype": "text/x-python",
   "name": "python",
   "nbconvert_exporter": "python",
   "pygments_lexer": "ipython3",
   "version": "3.12.2"
  }
 },
 "nbformat": 4,
 "nbformat_minor": 2
}

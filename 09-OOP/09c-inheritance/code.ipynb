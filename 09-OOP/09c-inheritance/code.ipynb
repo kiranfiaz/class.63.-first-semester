{
 "cells": [
  {
   "cell_type": "code",
   "execution_count": 4,
   "metadata": {},
   "outputs": [
    {
     "name": "stdout",
     "output_type": "stream",
     "text": [
      "['Rehan', 'Usman', 'Mazhar']\n",
      "<class 'list'>\n",
      "[]\n"
     ]
    }
   ],
   "source": [
    "names = [\"Rehan\", \"Usman\", \"Mazhar\"]\n",
    "print(names)\n",
    "print(type(names))\n",
    "names.append(\"Musa\")\n",
    "my_name = list()\n",
    "print(my_name)"
   ]
  },
  {
   "cell_type": "code",
   "execution_count": 25,
   "metadata": {},
   "outputs": [
    {
     "name": "stdout",
     "output_type": "stream",
     "text": [
      "<__main__.Person object at 0x000001C39C8E5070>\n",
      "{'cname': 'Rehan'}\n",
      "<__main__.Person object at 0x000001C39C8E48F0>\n",
      "{'cname': 'Usman'}\n"
     ]
    }
   ],
   "source": [
    "# attributes/variables\n",
    "# methods/functions\n",
    "\n",
    "class Person:\n",
    "    def __init__(self,name):\n",
    "        self.cname = name\n",
    "\n",
    "new_person = Person(\"Rehan\")\n",
    "print(new_person)\n",
    "print(new_person.__dict__)\n",
    "\n",
    "another_person = Person(\"Usman\")\n",
    "print(another_person)\n",
    "print(another_person.__dict__)"
   ]
  },
  {
   "cell_type": "code",
   "execution_count": 14,
   "metadata": {},
   "outputs": [
    {
     "name": "stdout",
     "output_type": "stream",
     "text": [
      "My name is Rehan\n",
      "Rehan\n",
      "My name is Usman\n",
      "Usman\n"
     ]
    }
   ],
   "source": [
    "# attributes/variables\n",
    "# methods/functions\n",
    "\n",
    "class Person:\n",
    "    def __init__(self,name):\n",
    "        self.cname = name\n",
    "    \n",
    "    def display_info(self):\n",
    "        print(f\"My name is {self.cname}\")\n",
    "\n",
    "\n",
    "new_person = Person(\"Rehan\")\n",
    "new_person.display_info()\n",
    "print(new_person.cname)\n",
    "\n",
    "\n",
    "another_person = Person(\"Usman\")\n",
    "another_person.display_info()\n",
    "print(another_person.cname\n",
    ")\n"
   ]
  },
  {
   "cell_type": "code",
   "execution_count": 22,
   "metadata": {},
   "outputs": [],
   "source": [
    "# Parent class\n",
    "class User:\n",
    "    def __init__(self, username, email):\n",
    "        self.username = username\n",
    "        self.email = email\n",
    "        print(\"Parent constructor called\")\n",
    "\n",
    "    def display_user_info(self):\n",
    "        print(f\"User: {self.username}, Email: {self.email}\")"
   ]
  },
  {
   "cell_type": "code",
   "execution_count": 24,
   "metadata": {},
   "outputs": [
    {
     "name": "stdout",
     "output_type": "stream",
     "text": [
      "Child constructor called\n",
      "Parent constructor called\n",
      "{'access_level': 'fullaccess', 'username': 'Rehan', 'email': 'example@1232'}\n"
     ]
    }
   ],
   "source": [
    "class Admin(User):\n",
    "    def __init__(self,username, email, access_level):\n",
    "        self.access_level = access_level\n",
    "        print(\"Child constructor called\")\n",
    "        super().__init__(username, email)\n",
    "\n",
    "\n",
    "user01 = Admin(\"Rehan\", \"example@1232\", \"fullaccess\")\n",
    "\n",
    "print(user01.__dict__)"
   ]
  }
 ],
 "metadata": {
  "kernelspec": {
   "display_name": "Python 3",
   "language": "python",
   "name": "python3"
  },
  "language_info": {
   "codemirror_mode": {
    "name": "ipython",
    "version": 3
   },
   "file_extension": ".py",
   "mimetype": "text/x-python",
   "name": "python",
   "nbconvert_exporter": "python",
   "pygments_lexer": "ipython3",
   "version": "3.12.2"
  }
 },
 "nbformat": 4,
 "nbformat_minor": 2
}

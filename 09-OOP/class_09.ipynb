{
  "nbformat": 4,
  "nbformat_minor": 0,
  "metadata": {
    "colab": {
      "provenance": []
    },
    "kernelspec": {
      "name": "python3",
      "display_name": "Python 3"
    },
    "language_info": {
      "name": "python"
    }
  },
  "cells": [
    {
      "cell_type": "code",
      "source": [
        "def greet(name, message):\n",
        "    print(f\"Hello {name}, {message}\")\n",
        "\n",
        "\n",
        "\n",
        "\n",
        "\n",
        "# greet(\"Ali\",\"Hi ......\")\n",
        "\n",
        "# greet(\"Hi this is message\", \"Ali\")\n",
        "\n",
        "\n",
        "greet(name=\"Ali\", message=\"Welcome to Python!\")"
      ],
      "metadata": {
        "colab": {
          "base_uri": "https://localhost:8080/"
        },
        "id": "w1NWs2Y28jru",
        "outputId": "8754b583-8fe5-4d09-9462-428c2191b5c6"
      },
      "execution_count": 2,
      "outputs": [
        {
          "output_type": "stream",
          "name": "stdout",
          "text": [
            "Hello Hi this is message, Ali\n"
          ]
        }
      ]
    },
    {
      "cell_type": "code",
      "source": [],
      "metadata": {
        "id": "LCfYf-N89ENb"
      },
      "execution_count": null,
      "outputs": []
    },
    {
      "cell_type": "code",
      "source": [
        "greet(message=\"Welcome to Python!\", name=\"Ali\")  # Output: Hello Ali, Welcome to Python!"
      ],
      "metadata": {
        "colab": {
          "base_uri": "https://localhost:8080/"
        },
        "id": "cDYhA5PW9C7G",
        "outputId": "62bc63ac-680a-4c32-a54c-059846075809"
      },
      "execution_count": 3,
      "outputs": [
        {
          "output_type": "stream",
          "name": "stdout",
          "text": [
            "Hello Ali, Welcome to Python!\n"
          ]
        }
      ]
    },
    {
      "cell_type": "code",
      "source": [
        "def display_args(*args):\n",
        "    print(args)\n",
        "\n",
        "\n",
        "display_args(1, 2, 3,4,5,6,7,7,8,8,)"
      ],
      "metadata": {
        "id": "CU6YViwQ-JIT"
      },
      "execution_count": null,
      "outputs": []
    },
    {
      "cell_type": "code",
      "execution_count": 4,
      "metadata": {
        "id": "krk-Li5M3b2c",
        "colab": {
          "base_uri": "https://localhost:8080/"
        },
        "outputId": "706873ba-582d-441f-c1c5-cd2df5c853dc"
      },
      "outputs": [
        {
          "output_type": "stream",
          "name": "stdout",
          "text": [
            "Positional arguments: (1, 2, 3)\n",
            "Keyword arguments: {'name': 'Ali', 'age': 25}\n"
          ]
        }
      ],
      "source": [
        "def display_info(a, b, *args, **kwargs):\n",
        "    print(\"Positional arguments:\", args)\n",
        "    print(\"Keyword arguments:\", kwargs)\n",
        "\n",
        "display_info(1, 2, 3, name=\"Ali\", age=25)\n"
      ]
    },
    {
      "cell_type": "code",
      "source": [
        "def sum(a,b, *args, **kwargs):\n",
        "    total = a + b\n",
        "    for num in args:\n",
        "        total += num\n",
        "    return total\n",
        "\n",
        "result = sum(1, 2, 3, 4, 5)\n",
        "print(result)"
      ],
      "metadata": {
        "colab": {
          "base_uri": "https://localhost:8080/"
        },
        "id": "mOoKa4So_C12",
        "outputId": "880d3c3a-095c-4cfa-ce13-e2100c80e4ee"
      },
      "execution_count": 6,
      "outputs": [
        {
          "output_type": "stream",
          "name": "stdout",
          "text": [
            "15\n"
          ]
        }
      ]
    },
    {
      "cell_type": "code",
      "source": [
        "# prompt: write a function which will take list of numbers and print the table of those numbers\n",
        "\n",
        "def print_tables(*numbers):\n",
        "  \"\"\"Prints the multiplication table for a list of numbers.\n",
        "\n",
        "  Args:\n",
        "      numbers: A list of numbers for which to print the tables.\n",
        "  \"\"\"\n",
        "  for number in numbers:\n",
        "    print(f\"Table of {number}:\")\n",
        "    for i in range(1, 11):\n",
        "      print(f\"{number} x {i} = {number * i}\")\n",
        "    print()  # Add an empty line for better readability\n",
        "\n",
        "\n",
        "# Example usage:\n",
        "print_tables(2,5,7)\n"
      ],
      "metadata": {
        "colab": {
          "base_uri": "https://localhost:8080/"
        },
        "id": "LYB1jFTd_uTv",
        "outputId": "cbe2c8f0-e77d-4a95-9aa1-21dfc33269e4"
      },
      "execution_count": 7,
      "outputs": [
        {
          "output_type": "stream",
          "name": "stdout",
          "text": [
            "Table of 2:\n",
            "2 x 1 = 2\n",
            "2 x 2 = 4\n",
            "2 x 3 = 6\n",
            "2 x 4 = 8\n",
            "2 x 5 = 10\n",
            "2 x 6 = 12\n",
            "2 x 7 = 14\n",
            "2 x 8 = 16\n",
            "2 x 9 = 18\n",
            "2 x 10 = 20\n",
            "\n",
            "Table of 5:\n",
            "5 x 1 = 5\n",
            "5 x 2 = 10\n",
            "5 x 3 = 15\n",
            "5 x 4 = 20\n",
            "5 x 5 = 25\n",
            "5 x 6 = 30\n",
            "5 x 7 = 35\n",
            "5 x 8 = 40\n",
            "5 x 9 = 45\n",
            "5 x 10 = 50\n",
            "\n",
            "Table of 7:\n",
            "7 x 1 = 7\n",
            "7 x 2 = 14\n",
            "7 x 3 = 21\n",
            "7 x 4 = 28\n",
            "7 x 5 = 35\n",
            "7 x 6 = 42\n",
            "7 x 7 = 49\n",
            "7 x 8 = 56\n",
            "7 x 9 = 63\n",
            "7 x 10 = 70\n",
            "\n"
          ]
        }
      ]
    },
    {
      "cell_type": "code",
      "source": [
        "def greetings(name):\n",
        "    age=12\n",
        "    print(name, age)\n",
        "\n",
        "greetings(\"Rehan\")\n",
        "print(age)"
      ],
      "metadata": {
        "colab": {
          "base_uri": "https://localhost:8080/",
          "height": 198
        },
        "id": "YUpuKdIhA2FH",
        "outputId": "3c6d0b8b-a726-4fe3-d425-cfbe21f224ac"
      },
      "execution_count": 9,
      "outputs": [
        {
          "output_type": "stream",
          "name": "stdout",
          "text": [
            "Rehan 12\n"
          ]
        },
        {
          "output_type": "error",
          "ename": "NameError",
          "evalue": "name 'age' is not defined",
          "traceback": [
            "\u001b[0;31m---------------------------------------------------------------------------\u001b[0m",
            "\u001b[0;31mNameError\u001b[0m                                 Traceback (most recent call last)",
            "\u001b[0;32m<ipython-input-9-e334f9c16db6>\u001b[0m in \u001b[0;36m<cell line: 6>\u001b[0;34m()\u001b[0m\n\u001b[1;32m      4\u001b[0m \u001b[0;34m\u001b[0m\u001b[0m\n\u001b[1;32m      5\u001b[0m \u001b[0mgreetings\u001b[0m\u001b[0;34m(\u001b[0m\u001b[0;34m\"Rehan\"\u001b[0m\u001b[0;34m)\u001b[0m\u001b[0;34m\u001b[0m\u001b[0;34m\u001b[0m\u001b[0m\n\u001b[0;32m----> 6\u001b[0;31m \u001b[0mprint\u001b[0m\u001b[0;34m(\u001b[0m\u001b[0mage\u001b[0m\u001b[0;34m)\u001b[0m\u001b[0;34m\u001b[0m\u001b[0;34m\u001b[0m\u001b[0m\n\u001b[0m",
            "\u001b[0;31mNameError\u001b[0m: name 'age' is not defined"
          ]
        }
      ]
    },
    {
      "cell_type": "code",
      "source": [
        "country=\"PAK\"\n",
        "def greetings(name):\n",
        "    age=12\n",
        "    print(name, age)\n",
        "    print(\"inside of function\", country)\n",
        "\n",
        "greetings(\"Rehan\")\n",
        "print(\"outside of funciton country\", country)"
      ],
      "metadata": {
        "colab": {
          "base_uri": "https://localhost:8080/"
        },
        "id": "2roO9SfFB_zA",
        "outputId": "4fc405e1-5fcd-42db-c804-b046f1947f69"
      },
      "execution_count": 10,
      "outputs": [
        {
          "output_type": "stream",
          "name": "stdout",
          "text": [
            "Rehan 12\n",
            "inside of function PAK\n",
            "outside of funciton country PAK\n"
          ]
        }
      ]
    },
    {
      "cell_type": "code",
      "source": [
        "age = 12\n",
        "def update():\n",
        "    age = 34\n",
        "    print('inside func: ', age)\n",
        "update()\n",
        "\n",
        "print(age)"
      ],
      "metadata": {
        "colab": {
          "base_uri": "https://localhost:8080/"
        },
        "id": "UhGBM2C6Cmr-",
        "outputId": "467c45a6-9374-4821-aa08-f7c9f8b34a3e"
      },
      "execution_count": 15,
      "outputs": [
        {
          "output_type": "stream",
          "name": "stdout",
          "text": [
            "inside func:  34\n",
            "12\n"
          ]
        }
      ]
    },
    {
      "cell_type": "code",
      "source": [
        "# prompt: write function that calculates factorial of a number\n",
        "\n",
        "def factorial(n):\n",
        "  \"\"\"\n",
        "  This function calculates the factorial of a non-negative integer.\n",
        "\n",
        "  Args:\n",
        "      n: The non-negative integer for which to calculate the factorial.\n",
        "\n",
        "  Returns:\n",
        "      The factorial of n, or 1 if n is 0.\n",
        "  \"\"\"\n",
        "  if n < 0:\n",
        "    return \"Factorial is not defined for negative numbers\"\n",
        "  elif n == 0:\n",
        "    return 1\n",
        "  else:\n",
        "    result = 1\n",
        "    for i in range(1, n + 1):\n",
        "      result *= i\n",
        "    return result\n",
        "\n",
        "# Example usage\n",
        "number = 5\n",
        "fact = factorial(number)\n",
        "print(f\"The factorial of {number} is {fact}\")\n"
      ],
      "metadata": {
        "id": "kAQxonZwDDGG"
      },
      "execution_count": null,
      "outputs": []
    },
    {
      "cell_type": "code",
      "source": [
        "# prompt: write function that calculates factorial of a number using recursion\n",
        "\n",
        "def factorial_recursive(n):  # 4\n",
        "  \"\"\"\n",
        "  This function calculates the factorial of a non-negative integer using recursion.\n",
        "\n",
        "  Args:\n",
        "      n: The non-negative integer for which to calculate the factorial.\n",
        "\n",
        "  Returns:\n",
        "      The factorial of n, or 1 if n is 0.\n",
        "  \"\"\"\n",
        "  if n < 0:  # 5< 0 =  flase\n",
        "    return \"Factorial is not defined for negative numbers\"\n",
        "  elif n == 0:     # 5 == 0 false\n",
        "    return 1\n",
        "  else:\n",
        "    return n * factorial_recursive(n - 1)\n",
        "          # 5 * 24\n",
        "          # 4 * 6\n",
        "          # 3 * 2\n",
        "          # 2 * 1\n",
        "          # 1 * 1\n",
        "# Example usage\n",
        "number = 5\n",
        "fact = factorial_recursive(number)\n",
        "print(f\"The factorial of {number} is {fact}\")\n"
      ],
      "metadata": {
        "colab": {
          "base_uri": "https://localhost:8080/"
        },
        "id": "1jAgZpFdFvTw",
        "outputId": "05d6710b-4ede-4487-aacd-7dbd06911c2b"
      },
      "execution_count": 16,
      "outputs": [
        {
          "output_type": "stream",
          "name": "stdout",
          "text": [
            "The factorial of 5 is 120\n"
          ]
        }
      ]
    },
    {
      "cell_type": "markdown",
      "source": [
        "# Lamda Functions"
      ],
      "metadata": {
        "id": "WvFMlmnlKDqL"
      }
    },
    {
      "cell_type": "code",
      "source": [
        "def sum(a,b):\n",
        "    return a+b\n",
        "\n"
      ],
      "metadata": {
        "id": "94M-V0UnGdLy"
      },
      "execution_count": 17,
      "outputs": []
    },
    {
      "cell_type": "code",
      "source": [
        "addition = lambda a,b: a+b"
      ],
      "metadata": {
        "id": "1fblV8Z5KQKY"
      },
      "execution_count": 18,
      "outputs": []
    },
    {
      "cell_type": "code",
      "source": [
        "print(addition(5,9))"
      ],
      "metadata": {
        "colab": {
          "base_uri": "https://localhost:8080/"
        },
        "id": "EoTmTu8IKan8",
        "outputId": "ba912975-8660-48b5-d995-32d985c2681d"
      },
      "execution_count": 19,
      "outputs": [
        {
          "output_type": "stream",
          "name": "stdout",
          "text": [
            "14\n"
          ]
        }
      ]
    },
    {
      "cell_type": "code",
      "source": [
        "# prompt: generate a lambda function which only print some statments\n",
        "\n",
        "my_lambda = lambda:print(\"Hello from a lambda function!\")\n",
        "\n",
        "my_lambda()\n"
      ],
      "metadata": {
        "id": "pkeEuB0TKdvO"
      },
      "execution_count": null,
      "outputs": []
    },
    {
      "cell_type": "code",
      "source": [
        "# prompt: create a Human class which contains three properties\n",
        "\n",
        "class Human:\n",
        "  def __init__(self, name, age, gender):  #\n",
        "    self.name = name #1\n",
        "    self.age = age  #2\n",
        "    self.gender = gender #3\n"
      ],
      "metadata": {
        "id": "fTzz16YWZHh2"
      },
      "execution_count": null,
      "outputs": []
    },
    {
      "cell_type": "code",
      "source": [
        "# prompt: create an object of Human class with Name Rehan\n",
        "\n",
        "human_object = Human(\"Rehan\", 25, \"Male\")\n"
      ],
      "metadata": {
        "id": "RaD8QFcHaTNr"
      },
      "execution_count": null,
      "outputs": []
    },
    {
      "cell_type": "code",
      "source": [
        "name = \"Usman\"\n",
        "age = 25\n",
        "gender = \"Male\"\n",
        "\n",
        "\n",
        "\n",
        "class Human:\n",
        "    def initialize(self, name, age):  # Using a non-standard method name\n",
        "        self.name = name\n",
        "        self.age = age\n",
        "\n",
        "    def speak(self):\n",
        "        print(f\"My name is {self.name}, and I am {self.age} years old.\")\n",
        "\n",
        "# Create an instance of the Human class\n",
        "person = Human()  # No arguments passed, because no __init__ method is called automatically\n",
        "\n",
        "# Call initialize method explicitly\n",
        "person.initialize(\"Alice\", 25)  # Now we must call this manually\n",
        "\n",
        "# Call the speak method\n",
        "person.speak()  # Output: My name is Alice, and I am 25 years old.\n"
      ],
      "metadata": {
        "id": "xCkA5jGYea9i"
      },
      "execution_count": null,
      "outputs": []
    },
    {
      "cell_type": "code",
      "source": [
        "class Human1:\n",
        "    def speak(self):\n",
        "        print(self)\n"
      ],
      "metadata": {
        "id": "pOwIFRPHhFns"
      },
      "execution_count": 20,
      "outputs": []
    },
    {
      "cell_type": "code",
      "source": [
        "h1 = Human1()\n",
        "\n",
        "h1.speak()"
      ],
      "metadata": {
        "colab": {
          "base_uri": "https://localhost:8080/"
        },
        "id": "5_0eRgHEhQeD",
        "outputId": "01f3e62f-c057-472a-8992-0cb1ef157ca6"
      },
      "execution_count": 21,
      "outputs": [
        {
          "output_type": "stream",
          "name": "stdout",
          "text": [
            "<__main__.Human1 object at 0x784e5908e2f0>\n"
          ]
        }
      ]
    },
    {
      "cell_type": "code",
      "source": [
        "dir(h1)"
      ],
      "metadata": {
        "colab": {
          "base_uri": "https://localhost:8080/"
        },
        "id": "RYHRs8_8hUi0",
        "outputId": "baaca711-ba51-41ab-d8e6-eadbff17c16c"
      },
      "execution_count": 22,
      "outputs": [
        {
          "output_type": "execute_result",
          "data": {
            "text/plain": [
              "['__class__',\n",
              " '__delattr__',\n",
              " '__dict__',\n",
              " '__dir__',\n",
              " '__doc__',\n",
              " '__eq__',\n",
              " '__format__',\n",
              " '__ge__',\n",
              " '__getattribute__',\n",
              " '__gt__',\n",
              " '__hash__',\n",
              " '__init__',\n",
              " '__init_subclass__',\n",
              " '__le__',\n",
              " '__lt__',\n",
              " '__module__',\n",
              " '__ne__',\n",
              " '__new__',\n",
              " '__reduce__',\n",
              " '__reduce_ex__',\n",
              " '__repr__',\n",
              " '__setattr__',\n",
              " '__sizeof__',\n",
              " '__str__',\n",
              " '__subclasshook__',\n",
              " '__weakref__',\n",
              " 'speak']"
            ]
          },
          "metadata": {},
          "execution_count": 22
        }
      ]
    },
    {
      "cell_type": "code",
      "source": [],
      "metadata": {
        "id": "90zckkXGhlrM"
      },
      "execution_count": null,
      "outputs": []
    }
  ]
}
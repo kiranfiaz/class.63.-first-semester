{
 "cells": [
  {
   "cell_type": "code",
   "execution_count": null,
   "metadata": {},
   "outputs": [],
   "source": [
    "numbers: list[int] = [2, 4, 6, 8]\n",
    "squares: list[int] = []\n",
    "\n",
    "for number in numbers:\n",
    "    square = number**2\n",
    "    squares.append(square)\n",
    "    # squares.append(number**2)\n",
    "\n",
    "print(squares)"
   ]
  },
  {
   "cell_type": "code",
   "execution_count": null,
   "metadata": {},
   "outputs": [],
   "source": [
    "# [expression for item in iterable]\n",
    "squares2 = [number**2 for number in numbers]\n",
    "print(squares2)"
   ]
  },
  {
   "cell_type": "code",
   "execution_count": null,
   "metadata": {},
   "outputs": [],
   "source": [
    "# we will find squares of even number from 1 to 10\n",
    "\n",
    "# 1. use range function\n",
    "# 2. for loop\n",
    "# 3. condtional statement to find even numbers\n",
    "# 4. calcualte the squares of even numebrs\n",
    "\n",
    "squares3: list[int] = []\n",
    "for i in range(1, 11):\n",
    "    if i % 2 == 0:\n",
    "        square = i**2\n",
    "        squares3.append(square)\n",
    "\n",
    "print(squares3)"
   ]
  },
  {
   "cell_type": "code",
   "execution_count": null,
   "metadata": {},
   "outputs": [],
   "source": [
    "square4 = [i**2 for i in range(1, 11) if i % 2 == 0]\n",
    "print(square4)"
   ]
  },
  {
   "cell_type": "code",
   "execution_count": null,
   "metadata": {},
   "outputs": [],
   "source": [
    "print(dir(str))\n",
    "methods = [method for method in dir(str) if '__' not in method]\n",
    "print(methods)"
   ]
  }
 ],
 "metadata": {
  "language_info": {
   "name": "python"
  }
 },
 "nbformat": 4,
 "nbformat_minor": 2
}

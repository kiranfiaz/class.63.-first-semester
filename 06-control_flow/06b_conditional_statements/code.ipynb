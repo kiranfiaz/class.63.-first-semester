{
 "cells": [
  {
   "cell_type": "markdown",
   "metadata": {},
   "source": [
    "# If-else\n",
    "\n",
    "- The block under `if` condition is executed when expression i.e. `is_money` evaluates to true. The block under `else` is executed when expresion (condition) evaluates to `False`.\n",
    "- Python Interpreter differentiates the different block of code for example, in this case, code inside `if` or `else` blocks, on the basis of _indentation_.\n",
    "- _Indentation_ is either 2 spaces or 4 spaces from start of the line.\n",
    "- Here we have assigned `boolean` value to the variable `is_money`. It is to show that if we have an expression (with comparison operators e.g. age >= 10, name == 'Rehan' and so on), it should always evaluate to either `True` or `False`.\n"
   ]
  },
  {
   "cell_type": "code",
   "execution_count": null,
   "metadata": {},
   "outputs": [],
   "source": [
    "\"\"\" \n",
    "If you've money, you can eat pizza.\n",
    "Otherwise, you've to eat whatever is cooked by Mama.\n",
    "\"\"\"\n",
    "\n",
    "is_money: bool = False\n",
    "\n",
    "if is_money:\n",
    "    # Indentation. Look how our 'if' block code is indented by 4 spaces.\n",
    "    print(\"Eat Pizza\")\n",
    "else:\n",
    "    print(\"Eat whatever is cooked by Mama\")"
   ]
  },
  {
   "cell_type": "code",
   "execution_count": 3,
   "metadata": {},
   "outputs": [
    {
     "name": "stdout",
     "output_type": "stream",
     "text": [
      "sabar\n"
     ]
    }
   ],
   "source": [
    "\"\"\" \n",
    "Enter the amount of money you've.\n",
    "The code will check wheter you can eat pizza or not.\n",
    "\"\"\"\n",
    "money: int = int(input(\"Enter the amount of money you've: \"))\n",
    "\n",
    "# indentation\n",
    "if money > 2000:\n",
    "    print(\"Eat Pizza\")\n",
    "\n",
    "else:\n",
    "    print(\"Eat whatever is cooked by Mama\")"
   ]
  },
  {
   "cell_type": "markdown",
   "metadata": {},
   "source": [
    "# if-elif-else\n",
    "\n",
    "- When we have multiple conditions (choices) to evaluate, we use `if`-`elif`-`else` chain.\n",
    "- Remember, only one condition in this case will be evaulated to `True`.\n"
   ]
  },
  {
   "cell_type": "code",
   "execution_count": 8,
   "metadata": {},
   "outputs": [
    {
     "name": "stdout",
     "output_type": "stream",
     "text": [
      "A\n"
     ]
    }
   ],
   "source": [
    "marks_obtained: int = int(\n",
    "    input(\"Enter the marks obtained to check what grade you got: \"))\n",
    "\n",
    "if marks_obtained >= 80:\n",
    "    print(\"A+\")\n",
    "elif marks_obtained >= 70:\n",
    "    print(\"A\")\n",
    "elif marks_obtained >= 60:\n",
    "    print(\"B\")\n",
    "else:\n",
    "    print(\"Needs Improvement\")"
   ]
  },
  {
   "cell_type": "markdown",
   "metadata": {},
   "source": [
    "# Nested if-elif-else\n"
   ]
  },
  {
   "cell_type": "code",
   "execution_count": 21,
   "metadata": {},
   "outputs": [
    {
     "name": "stdout",
     "output_type": "stream",
     "text": [
      "Buy Ticket from Daewoo Terminal\n"
     ]
    }
   ],
   "source": [
    "\n",
    "destination_city: str = input(\n",
    "    \"Choose your desitantion among 'lahore' or 'peshawar': \")\n",
    "\n",
    "if destination_city.lower() == \"lahore\":\n",
    "    \"\"\"\n",
    "    lower() is a string method which converts the string to lowercase. \n",
    "    Here if user inputs 'Lahore', 'LAHORE', or 'lahore', we can confidently compare it with 'lahore'.\n",
    "    \"\"\"\n",
    "    bus: str = input(\"Choose among 'faisal movers' or 'daewoo': \")\n",
    "    if bus.lower() == 'faisal movers':\n",
    "        print(\"Buy Ticket from Faisal Movers Terminal\")\n",
    "    elif bus.lower() == 'daewoo':\n",
    "        print(\"Buy Ticket from Daewoo Terminal\")\n",
    "    else:\n",
    "        print(\"User choose something else\")\n",
    "\n",
    "elif destination_city.lower() == \"peshawar\":\n",
    "    print(\"You will user Car to go to Peshawar\")\n",
    "    beverage_preference: str = input(\n",
    "        \"What you prefer to drink? choose one among 'tea' or 'cold drink'\")\n",
    "    if beverage_preference.lower() == 'tea':\n",
    "        print(\"Tea is a good choice. It won't let you sleep\")\n",
    "    elif beverage_preference.lower() == \"cold drink\":\n",
    "        print(\"Enjoy you cold drink\")\n",
    "    else:\n",
    "        print(\"User input was not 'tea' or 'cold drink'\")\n",
    "else:\n",
    "    print(\"User choose the destination other than Peshawar or Lahore\")"
   ]
  },
  {
   "cell_type": "markdown",
   "metadata": {},
   "source": [
    "# Logical Operators:\n",
    "\n",
    "- Logical operators are used to combine conditions(choices)\n",
    "- If we want to evaluate more than one condition simultaneously, we combine the conditions with logical operators.\n"
   ]
  },
  {
   "cell_type": "markdown",
   "metadata": {},
   "source": [
    "`and` --> aur\n",
    "`or` --> yaaa\n",
    "`not` --> Naheeeeeeee\n"
   ]
  },
  {
   "cell_type": "code",
   "execution_count": 13,
   "metadata": {},
   "outputs": [
    {
     "name": "stdout",
     "output_type": "stream",
     "text": [
      "Rejected\n"
     ]
    }
   ],
   "source": [
    "is_handsome = True\n",
    "is_rich = False\n",
    "\n",
    "if is_handsome and is_rich:\n",
    "    print(\"Proposal Accepted\")\n",
    "else:\n",
    "    print(\"Rejected\")"
   ]
  },
  {
   "cell_type": "code",
   "execution_count": 15,
   "metadata": {},
   "outputs": [
    {
     "name": "stdout",
     "output_type": "stream",
     "text": [
      "Proposal Accepted\n"
     ]
    }
   ],
   "source": [
    "is_handsome = True\n",
    "is_rich = False\n",
    "\n",
    "if is_handsome or is_rich:\n",
    "    print(\"Proposal Accepted\")\n",
    "else:\n",
    "    print(\"Rejected\")"
   ]
  },
  {
   "cell_type": "markdown",
   "metadata": {},
   "source": [
    "## Trick to remember logical operators\n",
    "\n",
    "Consider the followings\n",
    "\n",
    "- True = 1\n",
    "- False = 0\n",
    "- and = \\*\n",
    "- or = +\n",
    "\n",
    "### For `and` operator\n",
    "\n",
    "- 0 \\* 0 = 0 --> False and False = False\n",
    "- 1 \\* 0 = 0 --> True and False = False\n",
    "- 0 \\* 1 = 0 --> False and True = False\n",
    "- 1 \\* 1 = 1 --> True and True = True\n",
    "\n",
    "### For `or` operator\n",
    "\n",
    "- 0 + 0 = 0 --> False or False = False\n",
    "- 1 + 0 = 1 --> False or True = True\n",
    "- 0 + 1 = 1 --> False or True = True\n",
    "- 1 + 1 = 1 --> True or True = True\n"
   ]
  },
  {
   "cell_type": "markdown",
   "metadata": {},
   "source": [
    "### Shortcircuiting of 'and' operator\n",
    "\n",
    "- In one expression where all the conditions are chained with `and`, If the Python Interpreter finds first value to `False`, it will not check the remaining conditions(values) and will evaluate the whole expression to be `False`.\n",
    "- Why it is so? Because in `and` operator operation, if we have one `False` value, then all the and operations evaluates to `False` and `else` block will be executed.\n"
   ]
  },
  {
   "cell_type": "code",
   "execution_count": 16,
   "metadata": {},
   "outputs": [
    {
     "name": "stdout",
     "output_type": "stream",
     "text": [
      "Proposal Accepted\n"
     ]
    }
   ],
   "source": [
    "is_handsome = False\n",
    "is_rich = True\n",
    "living = 'USA'\n",
    "\n",
    "if is_handsome and is_rich and living == 'USA':\n",
    "    print(\"Proposal Accepted\")\n",
    "else:\n",
    "    print(\"Rejected\")"
   ]
  },
  {
   "cell_type": "markdown",
   "metadata": {},
   "source": [
    "### Shortcircuiting of 'or' operator\n",
    "\n",
    "- In one expression where all the conditions are chained with `or`, If the Python Interpreter finds first value to `True`, it will not check the remaining conditions(values) and will evaluate the whole expression to be true.\n",
    "- Why it is so? Because in `or` operator operation, if we have one `True` value, then all the `or` operations evaluates to `True` and `if` block will be executed.\n"
   ]
  },
  {
   "cell_type": "code",
   "execution_count": null,
   "metadata": {},
   "outputs": [],
   "source": [
    "is_handsome = True\n",
    "is_rich = False\n",
    "living = 'USA'\n",
    "\n",
    "if is_handsome or is_rich or living == 'USA':\n",
    "    print(\"Proposal Accepted\")\n",
    "else:\n",
    "    print(\"Rejected\")"
   ]
  },
  {
   "cell_type": "markdown",
   "metadata": {},
   "source": [
    "## Example of `not` Logical Operator\n",
    "\n",
    "- `not` simply reverse the value.\n"
   ]
  },
  {
   "cell_type": "code",
   "execution_count": 23,
   "metadata": {},
   "outputs": [
    {
     "name": "stdout",
     "output_type": "stream",
     "text": [
      "Please become a member first\n",
      "The if block was executed because the if condition evaluated to 'True'\n"
     ]
    }
   ],
   "source": [
    "is_member: bool = False\n",
    "\n",
    "if is_member:\n",
    "    print(\"You're welcomed\")\n",
    "else:\n",
    "    print(\"Please become a member first\")\n",
    "\n",
    "\n",
    "# Now check with `not` operator. See how it inverts the value.\n",
    "if not is_member:\n",
    "    print(\"The if block was executed because the if condition evaluated to 'True'\")\n",
    "else:\n",
    "    print(\"The 'else' block is executed because the if condition was evaluated to 'False'\")"
   ]
  }
 ],
 "metadata": {
  "kernelspec": {
   "display_name": "Python 3",
   "language": "python",
   "name": "python3"
  },
  "language_info": {
   "codemirror_mode": {
    "name": "ipython",
    "version": 3
   },
   "file_extension": ".py",
   "mimetype": "text/x-python",
   "name": "python",
   "nbconvert_exporter": "python",
   "pygments_lexer": "ipython3",
   "version": "3.12.2"
  }
 },
 "nbformat": 4,
 "nbformat_minor": 2
}

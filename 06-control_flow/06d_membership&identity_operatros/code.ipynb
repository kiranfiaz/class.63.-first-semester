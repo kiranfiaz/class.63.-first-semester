{
 "cells": [
  {
   "cell_type": "code",
   "execution_count": 1,
   "metadata": {},
   "outputs": [
    {
     "name": "stdout",
     "output_type": "stream",
     "text": [
      "True\n",
      "False\n"
     ]
    }
   ],
   "source": [
    "# Check the membership of apple and banana using membership operator 'in'.\n",
    "fruits = [\"apple\", \"banana\", \"cherry\"]\n",
    "print(\"apple\" in fruits)\n",
    "print(\"orange\" in fruits)"
   ]
  },
  {
   "cell_type": "code",
   "execution_count": 2,
   "metadata": {},
   "outputs": [
    {
     "name": "stdout",
     "output_type": "stream",
     "text": [
      "False\n",
      "True\n"
     ]
    }
   ],
   "source": [
    "fruits = [\"apple\", \"banana\", \"cherry\"]\n",
    "print(\"apple\" not in fruits)\n",
    "print(\"orange\" not in fruits)"
   ]
  },
  {
   "cell_type": "code",
   "execution_count": 6,
   "metadata": {},
   "outputs": [
    {
     "name": "stdout",
     "output_type": "stream",
     "text": [
      "Names are same\n"
     ]
    }
   ],
   "source": [
    "name: str = \"Usman\"\n",
    "name1: str = \"Usman\"\n",
    "if name == name1:\n",
    "    print(\"Names are same\")\n",
    "\n",
    "# print(id(name))"
   ]
  },
  {
   "cell_type": "code",
   "execution_count": 9,
   "metadata": {},
   "outputs": [
    {
     "name": "stdout",
     "output_type": "stream",
     "text": [
      "True\n",
      "2865289339584\n",
      "2865289339584\n",
      "2865289635392\n"
     ]
    }
   ],
   "source": [
    "a = [1, 2, 3]\n",
    "b = a\n",
    "c = a.copy()\n",
    "print(a is b)\n",
    "print(id(a))\n",
    "print(id(b))\n",
    "print(id(c))\n",
    "\n",
    "# Comparing two variables that point to different objects\n",
    "# c = [1, 2, 3]\n",
    "# print(a is c)  #"
   ]
  },
  {
   "cell_type": "code",
   "execution_count": 14,
   "metadata": {},
   "outputs": [
    {
     "name": "stdout",
     "output_type": "stream",
     "text": [
      "Hello! rehan, how are you\n",
      "Hello! musa, how are you\n",
      "Hello! usman, how are you\n",
      "Hello! ali, how are you\n",
      "ali\n"
     ]
    }
   ],
   "source": [
    "friends: list[str] = [\"rehan\", \"musa\", \"usman\", \"ali\"]\n",
    "\n",
    "for friend in friends:\n",
    "    print(f\"Hello! {friend}, how are you\")\n",
    "\n",
    "print(friend)"
   ]
  },
  {
   "cell_type": "code",
   "execution_count": 15,
   "metadata": {},
   "outputs": [
    {
     "name": "stdout",
     "output_type": "stream",
     "text": [
      "Hello world, iteration No:0\n",
      "Hello world, iteration No:1\n",
      "Hello world, iteration No:2\n",
      "Hello world, iteration No:3\n",
      "Hello world, iteration No:4\n",
      "ali\n"
     ]
    }
   ],
   "source": [
    "for i in range(5):  # [ 0, 1, 2, 3, 4]\n",
    "    print(f\"Hello world, iteration No:{i}\")\n",
    "\n",
    "# print(\"hello world\")\n",
    "# print(\"hello world\")\n",
    "# print(\"hello world\")\n",
    "# print(\"hello world\")"
   ]
  },
  {
   "cell_type": "code",
   "execution_count": 12,
   "metadata": {},
   "outputs": [
    {
     "name": "stdout",
     "output_type": "stream",
     "text": [
      "Hello world, iteration No:2\n",
      "Hello world, iteration No:3\n",
      "Hello world, iteration No:4\n",
      "Hello world, iteration No:5\n",
      "Hello world, iteration No:6\n",
      "Hello world, iteration No:7\n",
      "Hello world, iteration No:8\n",
      "Hello world, iteration No:9\n",
      "Hello world, iteration No:10\n"
     ]
    }
   ],
   "source": [
    "for i in range(2, 11):  # [ 2, 3,...,10]\n",
    "    print(f\"Hello world, iteration No:{i}\")"
   ]
  },
  {
   "cell_type": "code",
   "execution_count": 13,
   "metadata": {},
   "outputs": [
    {
     "name": "stdout",
     "output_type": "stream",
     "text": [
      "Hello world, iteration No:2\n",
      "Hello world, iteration No:4\n",
      "Hello world, iteration No:6\n",
      "Hello world, iteration No:8\n",
      "Hello world, iteration No:10\n"
     ]
    }
   ],
   "source": [
    "for i in range(2, 11, 2):  # [ 2, 3,...,10]\n",
    "    print(f\"Hello world, iteration No:{i}\")"
   ]
  },
  {
   "cell_type": "code",
   "execution_count": 19,
   "metadata": {},
   "outputs": [
    {
     "name": "stdout",
     "output_type": "stream",
     "text": [
      "Alice is 25 years old\n",
      "Bob is 30 years old\n",
      "Charlie is 35 years old\n"
     ]
    },
    {
     "ename": "ValueError",
     "evalue": "zip() argument 2 is longer than argument 1",
     "output_type": "error",
     "traceback": [
      "\u001b[1;31m---------------------------------------------------------------------------\u001b[0m",
      "\u001b[1;31mValueError\u001b[0m                                Traceback (most recent call last)",
      "Cell \u001b[1;32mIn[19], line 4\u001b[0m\n\u001b[0;32m      1\u001b[0m names \u001b[38;5;241m=\u001b[39m [\u001b[38;5;124m\"\u001b[39m\u001b[38;5;124mAlice\u001b[39m\u001b[38;5;124m\"\u001b[39m, \u001b[38;5;124m\"\u001b[39m\u001b[38;5;124mBob\u001b[39m\u001b[38;5;124m\"\u001b[39m, \u001b[38;5;124m\"\u001b[39m\u001b[38;5;124mCharlie\u001b[39m\u001b[38;5;124m\"\u001b[39m]\n\u001b[0;32m      2\u001b[0m ages \u001b[38;5;241m=\u001b[39m [\u001b[38;5;241m25\u001b[39m, \u001b[38;5;241m30\u001b[39m, \u001b[38;5;241m35\u001b[39m, \u001b[38;5;241m45\u001b[39m]\n\u001b[1;32m----> 4\u001b[0m \u001b[38;5;28;43;01mfor\u001b[39;49;00m\u001b[43m \u001b[49m\u001b[43mname\u001b[49m\u001b[43m,\u001b[49m\u001b[43m \u001b[49m\u001b[43mage\u001b[49m\u001b[43m \u001b[49m\u001b[38;5;129;43;01min\u001b[39;49;00m\u001b[43m \u001b[49m\u001b[38;5;28;43mzip\u001b[39;49m\u001b[43m(\u001b[49m\u001b[43mnames\u001b[49m\u001b[43m,\u001b[49m\u001b[43m \u001b[49m\u001b[43mages\u001b[49m\u001b[43m,\u001b[49m\u001b[43m \u001b[49m\u001b[43mstrict\u001b[49m\u001b[38;5;241;43m=\u001b[39;49m\u001b[38;5;28;43;01mTrue\u001b[39;49;00m\u001b[43m)\u001b[49m\u001b[43m:\u001b[49m\n\u001b[0;32m      5\u001b[0m \u001b[43m    \u001b[49m\u001b[38;5;28;43mprint\u001b[39;49m\u001b[43m(\u001b[49m\u001b[38;5;124;43mf\u001b[39;49m\u001b[38;5;124;43m\"\u001b[39;49m\u001b[38;5;132;43;01m{\u001b[39;49;00m\u001b[43mname\u001b[49m\u001b[38;5;132;43;01m}\u001b[39;49;00m\u001b[38;5;124;43m is \u001b[39;49m\u001b[38;5;132;43;01m{\u001b[39;49;00m\u001b[43mage\u001b[49m\u001b[38;5;132;43;01m}\u001b[39;49;00m\u001b[38;5;124;43m years old\u001b[39;49m\u001b[38;5;124;43m\"\u001b[39;49m\u001b[43m)\u001b[49m\n",
      "\u001b[1;31mValueError\u001b[0m: zip() argument 2 is longer than argument 1"
     ]
    }
   ],
   "source": [
    "names = [\"Alice\", \"Bob\", \"Charlie\"]\n",
    "ages = [25, 30, 35, 45]\n",
    "\n",
    "for name, age in zip(names, ages, strict=True):\n",
    "    print(f\"{name} is {age} years old\")"
   ]
  },
  {
   "cell_type": "code",
   "execution_count": 20,
   "metadata": {},
   "outputs": [
    {
     "name": "stdout",
     "output_type": "stream",
     "text": [
      "InnerLoop: 1\n",
      "InnerLoop: 2\n",
      "InnerLoop: 3\n",
      "Outerloop: [1, 2, 3]\n",
      "InnerLoop: 4\n",
      "InnerLoop: 5\n",
      "InnerLoop: 6\n",
      "Outerloop: [4, 5, 6]\n",
      "InnerLoop: 7\n",
      "InnerLoop: 8\n",
      "InnerLoop: 9\n",
      "Outerloop: [7, 8, 9]\n",
      "Loop finished\n"
     ]
    }
   ],
   "source": [
    "values = [\n",
    "    [1, 2, 3],\n",
    "    [4, 5, 6],\n",
    "    [7, 8, 9]\n",
    "]\n",
    "\n",
    "for value in values:\n",
    "    for sub_value in value:\n",
    "        print(f\"InnerLoop: {sub_value}\")\n",
    "\n",
    "    print(f\"Outerloop: {value}\")\n",
    "\n",
    "print(\"Loop finished\")"
   ]
  },
  {
   "cell_type": "code",
   "execution_count": null,
   "metadata": {},
   "outputs": [],
   "source": [
    "# 2 to 10\n",
    "\n",
    "for table_nmbr in range(2, 100):\n",
    "    for inner_val in range(1, 11):\n",
    "        print(f\" {table_nmbr} X {inner_val} = {table_nmbr * inner_val}\")\n",
    "    print(\"\")\n",
    "\n",
    "\n",
    "# 2            x   1          =   2\n",
    "# table_nmbr   X   inner_val  =  output"
   ]
  },
  {
   "cell_type": "code",
   "execution_count": 1,
   "metadata": {},
   "outputs": [
    {
     "name": "stdout",
     "output_type": "stream",
     "text": [
      "\n",
      "hi\n",
      "hello\n"
     ]
    }
   ],
   "source": [
    "condition = \"\"\n",
    "while condition != 'exit':\n",
    "    user_in = input(\"Enter command: \")\n",
    "    if user_in != 'exit':\n",
    "        print(user_in)\n",
    "    elif user_in == 'exit':\n",
    "        condition = user_in"
   ]
  },
  {
   "cell_type": "code",
   "execution_count": null,
   "metadata": {},
   "outputs": [],
   "source": [
    "count = 0\n",
    "while count < 5:\n",
    "    print(\"Count is:\", count)\n",
    "    count = count + 1"
   ]
  },
  {
   "cell_type": "code",
   "execution_count": null,
   "metadata": {},
   "outputs": [],
   "source": [
    "shopping_cart: list[str] = [\"apple\", \"salt\", \"black_pepper\", \"salt\"]"
   ]
  },
  {
   "cell_type": "code",
   "execution_count": 7,
   "metadata": {},
   "outputs": [
    {
     "name": "stdout",
     "output_type": "stream",
     "text": [
      "iteration number : 1\n",
      "iteration number : 2\n",
      "iteration number : 3\n",
      "iteration number : 4\n",
      "iteration number : 5\n",
      "iteration number : 6\n",
      "iteration number : 7\n",
      "iteration number : 8\n",
      "iteration number : 9\n",
      "iteration number : 11\n",
      "iteration number : 12\n",
      "iteration number : 13\n",
      "iteration number : 14\n",
      "iteration number : 15\n",
      "iteration number : 16\n",
      "iteration number : 17\n"
     ]
    }
   ],
   "source": [
    "for nmber in range(1, 18):\n",
    "    if (nmber == 10):\n",
    "        continue\n",
    "    print(f'iteration number : {nmber}')"
   ]
  },
  {
   "cell_type": "code",
   "execution_count": null,
   "metadata": {},
   "outputs": [],
   "source": [
    "# print 2 to 10 table but make sure 5 table only print 1 to 5\n",
    "\n",
    "for table_nmbr in range(2, 10):\n",
    "    for inner_val in range(1, 11):\n",
    "        if (table_nmbr == 3 and inner_val > 5):\n",
    "            continue\n",
    "        print(f\" {table_nmbr} X {inner_val} = {table_nmbr * inner_val}\")\n",
    "    print(\"\")"
   ]
  },
  {
   "cell_type": "code",
   "execution_count": 8,
   "metadata": {},
   "outputs": [
    {
     "name": "stdout",
     "output_type": "stream",
     "text": [
      "iteration number : 1\n",
      "iteration number : 2\n",
      "iteration number : 3\n",
      "iteration number : 4\n",
      "iteration number : 5\n",
      "iteration number : 6\n",
      "iteration number : 7\n",
      "iteration number : 8\n",
      "iteration number : 9\n"
     ]
    }
   ],
   "source": [
    "for nmber in range(1, 18):\n",
    "    if (nmber == 10):\n",
    "        break\n",
    "    print(f'iteration number : {nmber}')"
   ]
  },
  {
   "cell_type": "code",
   "execution_count": 9,
   "metadata": {},
   "outputs": [
    {
     "name": "stdout",
     "output_type": "stream",
     "text": [
      "[4, 16, 36, 64]\n"
     ]
    }
   ],
   "source": [
    "numbers: list[int] = [2, 4, 6, 8]\n",
    "squares: list[int] = []\n",
    "\n",
    "for number in numbers:\n",
    "    square = number**2\n",
    "    squares.append(square)\n",
    "    # squares.append(number**2)\n",
    "\n",
    "print(squares)"
   ]
  },
  {
   "cell_type": "code",
   "execution_count": 10,
   "metadata": {},
   "outputs": [
    {
     "name": "stdout",
     "output_type": "stream",
     "text": [
      "[4, 16, 36, 64]\n"
     ]
    }
   ],
   "source": [
    "# [expression for item in iterable]\n",
    "squares2 = [number**2 for number in numbers]\n",
    "print(squares2)"
   ]
  },
  {
   "cell_type": "code",
   "execution_count": 12,
   "metadata": {},
   "outputs": [
    {
     "name": "stdout",
     "output_type": "stream",
     "text": [
      "[4, 16, 36, 64, 100]\n"
     ]
    }
   ],
   "source": [
    "# we will find squares of even number from 1 to 10\n",
    "\n",
    "# 1. use range function\n",
    "# 2. for loop\n",
    "# 3. condtional statement to find even numbers\n",
    "# 4. calcualte the squares of even numebrs\n",
    "\n",
    "squares3: list[int] = []\n",
    "for i in range(1, 11):\n",
    "    if i % 2 == 0:\n",
    "        square = i**2\n",
    "        squares3.append(square)\n",
    "\n",
    "print(squares3)"
   ]
  },
  {
   "cell_type": "code",
   "execution_count": 13,
   "metadata": {},
   "outputs": [
    {
     "name": "stdout",
     "output_type": "stream",
     "text": [
      "[4, 16, 36, 64, 100]\n"
     ]
    }
   ],
   "source": [
    "square4 = [i**2 for i in range(1, 11) if i % 2 == 0]\n",
    "print(square4)"
   ]
  },
  {
   "cell_type": "code",
   "execution_count": 16,
   "metadata": {},
   "outputs": [
    {
     "name": "stdout",
     "output_type": "stream",
     "text": [
      "['__add__', '__class__', '__contains__', '__delattr__', '__dir__', '__doc__', '__eq__', '__format__', '__ge__', '__getattribute__', '__getitem__', '__getnewargs__', '__getstate__', '__gt__', '__hash__', '__init__', '__init_subclass__', '__iter__', '__le__', '__len__', '__lt__', '__mod__', '__mul__', '__ne__', '__new__', '__reduce__', '__reduce_ex__', '__repr__', '__rmod__', '__rmul__', '__setattr__', '__sizeof__', '__str__', '__subclasshook__', 'capitalize', 'casefold', 'center', 'count', 'encode', 'endswith', 'expandtabs', 'find', 'format', 'format_map', 'index', 'isalnum', 'isalpha', 'isascii', 'isdecimal', 'isdigit', 'isidentifier', 'islower', 'isnumeric', 'isprintable', 'isspace', 'istitle', 'isupper', 'join', 'ljust', 'lower', 'lstrip', 'maketrans', 'partition', 'removeprefix', 'removesuffix', 'replace', 'rfind', 'rindex', 'rjust', 'rpartition', 'rsplit', 'rstrip', 'split', 'splitlines', 'startswith', 'strip', 'swapcase', 'title', 'translate', 'upper', 'zfill']\n",
      "['capitalize', 'casefold', 'center', 'count', 'encode', 'endswith', 'expandtabs', 'find', 'format', 'format_map', 'index', 'isalnum', 'isalpha', 'isascii', 'isdecimal', 'isdigit', 'isidentifier', 'islower', 'isnumeric', 'isprintable', 'isspace', 'istitle', 'isupper', 'join', 'ljust', 'lower', 'lstrip', 'maketrans', 'partition', 'removeprefix', 'removesuffix', 'replace', 'rfind', 'rindex', 'rjust', 'rpartition', 'rsplit', 'rstrip', 'split', 'splitlines', 'startswith', 'strip', 'swapcase', 'title', 'translate', 'upper', 'zfill']\n"
     ]
    }
   ],
   "source": [
    "print(dir(str))\n",
    "methods = [method for method in dir(str) if '__' not in method]\n",
    "print(methods)"
   ]
  },
  {
   "cell_type": "code",
   "execution_count": 18,
   "metadata": {},
   "outputs": [
    {
     "name": "stdout",
     "output_type": "stream",
     "text": [
      "(1, 2, 3)\n",
      "<class 'tuple'>\n"
     ]
    }
   ],
   "source": [
    "my_tuple = (1, 2, 3)\n",
    "print(my_tuple)\n",
    "print(type(my_tuple))"
   ]
  },
  {
   "cell_type": "code",
   "execution_count": 19,
   "metadata": {},
   "outputs": [
    {
     "name": "stdout",
     "output_type": "stream",
     "text": [
      "(1, 2, 3)\n",
      "<class 'tuple'>\n"
     ]
    }
   ],
   "source": [
    "my_tuple1 = 1, 2, 3\n",
    "print(my_tuple1)\n",
    "print(type(my_tuple1))"
   ]
  },
  {
   "cell_type": "code",
   "execution_count": 22,
   "metadata": {},
   "outputs": [
    {
     "name": "stdout",
     "output_type": "stream",
     "text": [
      "1\n",
      "<class 'int'>\n"
     ]
    }
   ],
   "source": [
    "my_tuple2 = (1)\n",
    "print(my_tuple2)\n",
    "print(type(my_tuple2))"
   ]
  },
  {
   "cell_type": "code",
   "execution_count": 23,
   "metadata": {},
   "outputs": [
    {
     "name": "stdout",
     "output_type": "stream",
     "text": [
      "(1,)\n",
      "<class 'tuple'>\n"
     ]
    }
   ],
   "source": [
    "my_tuple3 = (1,)\n",
    "print(my_tuple3)\n",
    "print(type(my_tuple3))"
   ]
  },
  {
   "cell_type": "code",
   "execution_count": 24,
   "metadata": {},
   "outputs": [
    {
     "name": "stdout",
     "output_type": "stream",
     "text": [
      "1\n"
     ]
    }
   ],
   "source": [
    "tup: tuple[int, ...] = (1, 2, 3, 4, 5, 6)\n",
    "print(tup[0])"
   ]
  },
  {
   "cell_type": "code",
   "execution_count": 25,
   "metadata": {},
   "outputs": [
    {
     "name": "stdout",
     "output_type": "stream",
     "text": [
      "6\n"
     ]
    }
   ],
   "source": [
    "tup1: tuple[int, ...] = (1, 2, 3, 4, 5, 6)\n",
    "# tup1[0] = 10\n",
    "print(len(tup1))"
   ]
  },
  {
   "cell_type": "code",
   "execution_count": 28,
   "metadata": {},
   "outputs": [
    {
     "name": "stdout",
     "output_type": "stream",
     "text": [
      "Rehan\n",
      "Usman\n",
      "<class 'str'>\n",
      "<class 'str'>\n",
      "('Rehan', 'Usman')\n"
     ]
    }
   ],
   "source": [
    "names: tuple[str, str] = (\"Rehan\", \"Usman\")\n",
    "\n",
    "name1, name2 = names\n",
    "print(name1)\n",
    "print(name2)\n",
    "print(type(name1))\n",
    "print(type(name2))\n",
    "\n",
    "print(names)"
   ]
  },
  {
   "cell_type": "code",
   "execution_count": 29,
   "metadata": {},
   "outputs": [
    {
     "name": "stdout",
     "output_type": "stream",
     "text": [
      "10\n",
      "5\n"
     ]
    }
   ],
   "source": [
    "a = 5\n",
    "b = 10\n",
    "c = a\n",
    "a = b\n",
    "b = c\n",
    "print(a)\n",
    "print(b)"
   ]
  },
  {
   "cell_type": "code",
   "execution_count": null,
   "metadata": {},
   "outputs": [],
   "source": [
    "a = 5\n",
    "b = 10\n",
    "a, b = b, a\n",
    "print(a)\n",
    "print(b)"
   ]
  },
  {
   "cell_type": "code",
   "execution_count": 30,
   "metadata": {},
   "outputs": [
    {
     "name": "stdout",
     "output_type": "stream",
     "text": [
      "Before swapping: t1=(1, 2) and t2=(2, 3)\n",
      "After swapping: t1=(2, 3) and t2=(1, 2)\n"
     ]
    }
   ],
   "source": [
    "t1 = (1, 2)\n",
    "t2 = (2, 3)\n",
    "print(f\"Before swapping: t1={t1} and t2={t2}\")\n",
    "t1, t2 = t2, t1\n",
    "print(f\"After swapping: t1={t1} and t2={t2}\")"
   ]
  },
  {
   "cell_type": "code",
   "execution_count": null,
   "metadata": {},
   "outputs": [],
   "source": [
    "test_tup = (1, 2, [100, 200])"
   ]
  }
 ],
 "metadata": {
  "kernelspec": {
   "display_name": "Python 3",
   "language": "python",
   "name": "python3"
  },
  "language_info": {
   "codemirror_mode": {
    "name": "ipython",
    "version": 3
   },
   "file_extension": ".py",
   "mimetype": "text/x-python",
   "name": "python",
   "nbconvert_exporter": "python",
   "pygments_lexer": "ipython3",
   "version": "3.12.2"
  }
 },
 "nbformat": 4,
 "nbformat_minor": 2
}

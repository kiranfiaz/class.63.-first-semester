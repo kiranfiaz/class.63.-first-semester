{
 "cells": [
  {
   "cell_type": "code",
   "execution_count": null,
   "metadata": {},
   "outputs": [],
   "source": [
    "condition = \"\"\n",
    "while condition != 'exit':\n",
    "    user_in = input(\"Enter command: \")\n",
    "    if user_in != 'exit':\n",
    "        print(user_in)\n",
    "    elif user_in == 'exit':\n",
    "        condition = user_in"
   ]
  },
  {
   "cell_type": "code",
   "execution_count": null,
   "metadata": {},
   "outputs": [],
   "source": [
    "count = 0\n",
    "while count < 5:\n",
    "    print(\"Count is:\", count)\n",
    "    count = count + 1"
   ]
  }
 ],
 "metadata": {
  "language_info": {
   "name": "python"
  }
 },
 "nbformat": 4,
 "nbformat_minor": 2
}

{
 "cells": [
  {
   "cell_type": "code",
   "execution_count": null,
   "metadata": {},
   "outputs": [],
   "source": [
    "friends: list[str] = [\"rehan\", \"musa\", \"usman\", \"ali\"]\n",
    "\n",
    "for friend in friends:\n",
    "    print(f\"Hello! {friend}, how are you\")\n",
    "\n",
    "print(friend)"
   ]
  },
  {
   "cell_type": "code",
   "execution_count": null,
   "metadata": {},
   "outputs": [],
   "source": [
    "for i in range(5):  # [ 0, 1, 2, 3, 4]\n",
    "    print(f\"Hello world, iteration No:{i}\")"
   ]
  },
  {
   "cell_type": "code",
   "execution_count": null,
   "metadata": {},
   "outputs": [],
   "source": [
    "for i in range(2, 11):  # [ 2, 3,...,10]\n",
    "    print(f\"Hello world, iteration No:{i}\")"
   ]
  },
  {
   "cell_type": "code",
   "execution_count": null,
   "metadata": {},
   "outputs": [],
   "source": [
    "for i in range(2, 11, 2):  # [ 2, 3,...,10]\n",
    "    print(f\"Hello world, iteration No:{i}\")"
   ]
  },
  {
   "cell_type": "code",
   "execution_count": null,
   "metadata": {},
   "outputs": [],
   "source": [
    "names = [\"Alice\", \"Bob\", \"Charlie\"]\n",
    "ages = [25, 30, 35, 45]\n",
    "\n",
    "for name, age in zip(names, ages, strict=True):\n",
    "    print(f\"{name} is {age} years old\")"
   ]
  },
  {
   "cell_type": "code",
   "execution_count": null,
   "metadata": {},
   "outputs": [],
   "source": [
    "values = [\n",
    "    [1, 2, 3],\n",
    "    [4, 5, 6],\n",
    "    [7, 8, 9]\n",
    "]\n",
    "\n",
    "for value in values:\n",
    "    for sub_value in value:\n",
    "        print(f\"InnerLoop: {sub_value}\")\n",
    "\n",
    "    print(f\"Outerloop: {value}\")\n",
    "\n",
    "print(\"Loop finished\")"
   ]
  },
  {
   "cell_type": "code",
   "execution_count": null,
   "metadata": {},
   "outputs": [],
   "source": [
    "# 2 to 10\n",
    "\n",
    "for table_nmbr in range(2, 100):\n",
    "    for inner_val in range(1, 11):\n",
    "        print(f\" {table_nmbr} X {inner_val} = {table_nmbr * inner_val}\")\n",
    "    print(\"\")\n",
    "\n",
    "\n",
    "# 2            x   1          =   2\n",
    "# table_nmbr   X   inner_val  =  output"
   ]
  },
  {
   "cell_type": "code",
   "execution_count": null,
   "metadata": {},
   "outputs": [],
   "source": []
  }
 ],
 "metadata": {
  "language_info": {
   "name": "python"
  }
 },
 "nbformat": 4,
 "nbformat_minor": 2
}

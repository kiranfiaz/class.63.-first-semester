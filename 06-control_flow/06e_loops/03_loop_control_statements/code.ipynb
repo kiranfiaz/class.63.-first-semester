{
 "cells": [
  {
   "cell_type": "code",
   "execution_count": null,
   "metadata": {},
   "outputs": [],
   "source": [
    "for nmber in range(1, 18):\n",
    "    if (nmber == 10):\n",
    "        continue\n",
    "    print(f'iteration number : {nmber}')"
   ]
  },
  {
   "cell_type": "code",
   "execution_count": null,
   "metadata": {},
   "outputs": [],
   "source": [
    "for table_nmbr in range(2, 10):\n",
    "    for inner_val in range(1, 11):\n",
    "        if (table_nmbr == 3 and inner_val > 5):\n",
    "            continue\n",
    "        print(f\" {table_nmbr} X {inner_val} = {table_nmbr * inner_val}\")\n",
    "    print(\"\")"
   ]
  },
  {
   "cell_type": "code",
   "execution_count": null,
   "metadata": {},
   "outputs": [],
   "source": [
    "for nmber in range(1, 18):\n",
    "    if (nmber == 10):\n",
    "        break\n",
    "    print(f'iteration number : {nmber}')"
   ]
  },
  {
   "cell_type": "code",
   "execution_count": null,
   "metadata": {},
   "outputs": [],
   "source": [
    "numbers: list[int] = [2, 4, 6, 8]\n",
    "squares: list[int] = []\n",
    "\n",
    "for number in numbers:\n",
    "    square = number**2\n",
    "    squares.append(square)\n",
    "    # squares.append(number**2)\n",
    "\n",
    "print(squares)"
   ]
  }
 ],
 "metadata": {
  "language_info": {
   "name": "python"
  }
 },
 "nbformat": 4,
 "nbformat_minor": 2
}
